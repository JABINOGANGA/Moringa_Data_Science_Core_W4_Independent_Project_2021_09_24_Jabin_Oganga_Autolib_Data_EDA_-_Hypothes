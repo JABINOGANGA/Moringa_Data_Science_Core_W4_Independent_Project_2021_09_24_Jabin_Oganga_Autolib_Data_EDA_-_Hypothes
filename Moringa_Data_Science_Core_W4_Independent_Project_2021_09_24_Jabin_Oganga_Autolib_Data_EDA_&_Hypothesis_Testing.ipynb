{
  "nbformat": 4,
  "nbformat_minor": 0,
  "metadata": {
    "colab": {
      "name": "Moringa_Data_Science_Core_W4_Independent_Project_2021_09_24_Jabin_Oganga_Autolib_Data_EDA_&_Hypothesis_Testing.ipynb",
      "provenance": [],
      "collapsed_sections": [],
      "authorship_tag": "ABX9TyOTi/280LoHT3GCaNFXytQH",
      "include_colab_link": true
    },
    "kernelspec": {
      "display_name": "Python 3",
      "name": "python3"
    },
    "language_info": {
      "name": "python"
    }
  },
  "cells": [
    {
      "cell_type": "markdown",
      "metadata": {
        "id": "view-in-github",
        "colab_type": "text"
      },
      "source": [
        "<a href=\"https://colab.research.google.com/github/JABINOGANGA/Moringa_Data_Science_Core_W4_Independent_Project_2021_09_24_Jabin_Oganga_Autolib_Data_EDA_-_Hypothes/blob/main/Moringa_Data_Science_Core_W4_Independent_Project_2021_09_24_Jabin_Oganga_Autolib_Data_EDA_%26_Hypothesis_Testing.ipynb\" target=\"_parent\"><img src=\"https://colab.research.google.com/assets/colab-badge.svg\" alt=\"Open In Colab\"/></a>"
      ]
    },
    {
      "cell_type": "markdown",
      "metadata": {
        "id": "5_kY7OrPQ61C"
      },
      "source": [
        "# ELECTRIC CAR UTILITY IN AUTOLIB CAR SHARING COMPANY"
      ]
    },
    {
      "cell_type": "markdown",
      "metadata": {
        "id": "Im7ALAidPjKp"
      },
      "source": [
        "## Overview\n",
        "\n",
        "Just like before, we have been tasked to understand electric car usage by solving for another research question. We will work as a Data Scientist for the Autolib electric car-sharing service company to investigate a claim about the blue cars from the provided Autolib dataset.\n",
        "\n",
        "In an effort to do this, we need to identify some areas and periods of interest via sampling stating the reason to the choice of method, then perform hypothesis testing with regards to the claim that we will have made. An example of claim to test would be \"Is the number of Bluecars taken in area X different than in area Y? Is it greater in area X than in area Z? Etc”. \n",
        "\n",
        "**The selected periods of interest be either weekdays or weekends but not a mix of both. You can also consider postal codes 75015 vs 75017 to some of the areas of interest.** "
      ]
    },
    {
      "cell_type": "markdown",
      "metadata": {
        "id": "HTq2z1jgSYOM"
      },
      "source": [
        "### To work on this project, we will perform the following analysis with Python; \n",
        "\n",
        "* Find and deal with outliers, anomalies, and missing data within the dataset.\n",
        "* Plot appropriate univariate and bivariate summaries recording our observations.\n",
        "* Implement the solution by performing hypothesis testing.\n",
        "* This will need to be documented when writing the report. "
      ]
    },
    {
      "cell_type": "markdown",
      "metadata": {
        "id": "a5EqQz7HrQuw"
      },
      "source": [
        "## 2. Loading Libraries"
      ]
    },
    {
      "cell_type": "code",
      "metadata": {
        "id": "Wb3kZtmH5jZt"
      },
      "source": [
        "# Importing libraries\n",
        "\n",
        "import numpy as np\n",
        "import pandas as pd\n",
        "import matplotlib.pyplot as plt\n",
        "import seaborn as sns\n",
        "import scipy.stats as stats\n",
        "#import norm function from the scipy library\n",
        "from scipy.stats import norm\n"
      ],
      "execution_count": null,
      "outputs": []
    },
    {
      "cell_type": "markdown",
      "metadata": {
        "id": "tPPO3IeYnkJC"
      },
      "source": [
        "## 2. Loading DataSets"
      ]
    },
    {
      "cell_type": "code",
      "metadata": {
        "colab": {
          "base_uri": "https://localhost:8080/",
          "height": 243
        },
        "id": "SoVIzimFpC-p",
        "outputId": "054d7483-ab21-4024-fe2e-144fe43219f4"
      },
      "source": [
        "# Load the Autolib Dataset then check the datasets\n",
        "autolib = pd.read_csv('/content/autolib_daily_events_postal_code.csv',encoding='latin-1')\n",
        "autolib.head()"
      ],
      "execution_count": null,
      "outputs": [
        {
          "output_type": "execute_result",
          "data": {
            "text/html": [
              "<div>\n",
              "<style scoped>\n",
              "    .dataframe tbody tr th:only-of-type {\n",
              "        vertical-align: middle;\n",
              "    }\n",
              "\n",
              "    .dataframe tbody tr th {\n",
              "        vertical-align: top;\n",
              "    }\n",
              "\n",
              "    .dataframe thead th {\n",
              "        text-align: right;\n",
              "    }\n",
              "</style>\n",
              "<table border=\"1\" class=\"dataframe\">\n",
              "  <thead>\n",
              "    <tr style=\"text-align: right;\">\n",
              "      <th></th>\n",
              "      <th>ï»¿Postal code</th>\n",
              "      <th>date</th>\n",
              "      <th>n_daily_data_points</th>\n",
              "      <th>dayOfWeek</th>\n",
              "      <th>day_type</th>\n",
              "      <th>BlueCars_taken_sum</th>\n",
              "      <th>BlueCars_returned_sum</th>\n",
              "      <th>Utilib_taken_sum</th>\n",
              "      <th>Utilib_returned_sum</th>\n",
              "      <th>Utilib_14_taken_sum</th>\n",
              "      <th>Utilib_14_returned_sum</th>\n",
              "      <th>Slots_freed_sum</th>\n",
              "      <th>Slots_taken_sum</th>\n",
              "    </tr>\n",
              "  </thead>\n",
              "  <tbody>\n",
              "    <tr>\n",
              "      <th>0</th>\n",
              "      <td>75001</td>\n",
              "      <td>1/1/2018</td>\n",
              "      <td>1440</td>\n",
              "      <td>0</td>\n",
              "      <td>weekday</td>\n",
              "      <td>110</td>\n",
              "      <td>103</td>\n",
              "      <td>3</td>\n",
              "      <td>2</td>\n",
              "      <td>10</td>\n",
              "      <td>9</td>\n",
              "      <td>22</td>\n",
              "      <td>20</td>\n",
              "    </tr>\n",
              "    <tr>\n",
              "      <th>1</th>\n",
              "      <td>75001</td>\n",
              "      <td>1/2/2018</td>\n",
              "      <td>1438</td>\n",
              "      <td>1</td>\n",
              "      <td>weekday</td>\n",
              "      <td>98</td>\n",
              "      <td>94</td>\n",
              "      <td>1</td>\n",
              "      <td>1</td>\n",
              "      <td>8</td>\n",
              "      <td>8</td>\n",
              "      <td>23</td>\n",
              "      <td>22</td>\n",
              "    </tr>\n",
              "    <tr>\n",
              "      <th>2</th>\n",
              "      <td>75001</td>\n",
              "      <td>1/3/2018</td>\n",
              "      <td>1439</td>\n",
              "      <td>2</td>\n",
              "      <td>weekday</td>\n",
              "      <td>138</td>\n",
              "      <td>139</td>\n",
              "      <td>0</td>\n",
              "      <td>0</td>\n",
              "      <td>2</td>\n",
              "      <td>2</td>\n",
              "      <td>27</td>\n",
              "      <td>27</td>\n",
              "    </tr>\n",
              "    <tr>\n",
              "      <th>3</th>\n",
              "      <td>75001</td>\n",
              "      <td>1/4/2018</td>\n",
              "      <td>1320</td>\n",
              "      <td>3</td>\n",
              "      <td>weekday</td>\n",
              "      <td>104</td>\n",
              "      <td>104</td>\n",
              "      <td>2</td>\n",
              "      <td>2</td>\n",
              "      <td>9</td>\n",
              "      <td>8</td>\n",
              "      <td>25</td>\n",
              "      <td>21</td>\n",
              "    </tr>\n",
              "    <tr>\n",
              "      <th>4</th>\n",
              "      <td>75001</td>\n",
              "      <td>1/5/2018</td>\n",
              "      <td>1440</td>\n",
              "      <td>4</td>\n",
              "      <td>weekday</td>\n",
              "      <td>114</td>\n",
              "      <td>117</td>\n",
              "      <td>3</td>\n",
              "      <td>3</td>\n",
              "      <td>6</td>\n",
              "      <td>6</td>\n",
              "      <td>18</td>\n",
              "      <td>20</td>\n",
              "    </tr>\n",
              "  </tbody>\n",
              "</table>\n",
              "</div>"
            ],
            "text/plain": [
              "   ï»¿Postal code      date  ...  Slots_freed_sum  Slots_taken_sum\n",
              "0           75001  1/1/2018  ...               22               20\n",
              "1           75001  1/2/2018  ...               23               22\n",
              "2           75001  1/3/2018  ...               27               27\n",
              "3           75001  1/4/2018  ...               25               21\n",
              "4           75001  1/5/2018  ...               18               20\n",
              "\n",
              "[5 rows x 13 columns]"
            ]
          },
          "metadata": {},
          "execution_count": 210
        }
      ]
    },
    {
      "cell_type": "code",
      "metadata": {
        "colab": {
          "base_uri": "https://localhost:8080/",
          "height": 457
        },
        "id": "ENm5sIKcqRRa",
        "outputId": "e0bc556b-043f-49bc-8fca-fb38da7ee397"
      },
      "source": [
        "# Load the Autolib Description Dataset to help understand the columns\n",
        "autolib_Desc = pd.read_excel('/content/columns_explanation (1).xlsx')\n",
        "autolib_Desc"
      ],
      "execution_count": null,
      "outputs": [
        {
          "output_type": "execute_result",
          "data": {
            "text/html": [
              "<div>\n",
              "<style scoped>\n",
              "    .dataframe tbody tr th:only-of-type {\n",
              "        vertical-align: middle;\n",
              "    }\n",
              "\n",
              "    .dataframe tbody tr th {\n",
              "        vertical-align: top;\n",
              "    }\n",
              "\n",
              "    .dataframe thead th {\n",
              "        text-align: right;\n",
              "    }\n",
              "</style>\n",
              "<table border=\"1\" class=\"dataframe\">\n",
              "  <thead>\n",
              "    <tr style=\"text-align: right;\">\n",
              "      <th></th>\n",
              "      <th>Column name</th>\n",
              "      <th>explanation</th>\n",
              "    </tr>\n",
              "  </thead>\n",
              "  <tbody>\n",
              "    <tr>\n",
              "      <th>0</th>\n",
              "      <td>Postal code</td>\n",
              "      <td>postal code of the area (in Paris)</td>\n",
              "    </tr>\n",
              "    <tr>\n",
              "      <th>1</th>\n",
              "      <td>date</td>\n",
              "      <td>date of the row aggregation</td>\n",
              "    </tr>\n",
              "    <tr>\n",
              "      <th>2</th>\n",
              "      <td>n_daily_data_points</td>\n",
              "      <td>number of daily data poinst that were availabl...</td>\n",
              "    </tr>\n",
              "    <tr>\n",
              "      <th>3</th>\n",
              "      <td>dayOfWeek</td>\n",
              "      <td>identifier of weekday (0: Monday -&gt; 6: Sunday)</td>\n",
              "    </tr>\n",
              "    <tr>\n",
              "      <th>4</th>\n",
              "      <td>day_type</td>\n",
              "      <td>weekday or weekend</td>\n",
              "    </tr>\n",
              "    <tr>\n",
              "      <th>5</th>\n",
              "      <td>BlueCars_taken_sum</td>\n",
              "      <td>Number of bluecars taken that date in that area</td>\n",
              "    </tr>\n",
              "    <tr>\n",
              "      <th>6</th>\n",
              "      <td>BlueCars_returned_sum</td>\n",
              "      <td>Number of bluecars returned that date in that ...</td>\n",
              "    </tr>\n",
              "    <tr>\n",
              "      <th>7</th>\n",
              "      <td>Utilib_taken_sum</td>\n",
              "      <td>Number of Utilib taken that date in that area</td>\n",
              "    </tr>\n",
              "    <tr>\n",
              "      <th>8</th>\n",
              "      <td>Utilib_returned_sum</td>\n",
              "      <td>Number of Utilib returned that date in that area</td>\n",
              "    </tr>\n",
              "    <tr>\n",
              "      <th>9</th>\n",
              "      <td>Utilib_14_taken_sum</td>\n",
              "      <td>Number of Utilib 1.4 taken that date in that area</td>\n",
              "    </tr>\n",
              "    <tr>\n",
              "      <th>10</th>\n",
              "      <td>Utilib_14_returned_sum</td>\n",
              "      <td>Number of Utilib 1.4 returned that date in tha...</td>\n",
              "    </tr>\n",
              "    <tr>\n",
              "      <th>11</th>\n",
              "      <td>Slots_freed_sum</td>\n",
              "      <td>Number of recharging slots released that date ...</td>\n",
              "    </tr>\n",
              "    <tr>\n",
              "      <th>12</th>\n",
              "      <td>Slots_taken_sum</td>\n",
              "      <td>Number of rechargign slots taken that date in ...</td>\n",
              "    </tr>\n",
              "  </tbody>\n",
              "</table>\n",
              "</div>"
            ],
            "text/plain": [
              "               Column name                                        explanation\n",
              "0              Postal code                 postal code of the area (in Paris)\n",
              "1                     date                        date of the row aggregation\n",
              "2      n_daily_data_points  number of daily data poinst that were availabl...\n",
              "3                dayOfWeek     identifier of weekday (0: Monday -> 6: Sunday)\n",
              "4                 day_type                                 weekday or weekend\n",
              "5       BlueCars_taken_sum    Number of bluecars taken that date in that area\n",
              "6    BlueCars_returned_sum  Number of bluecars returned that date in that ...\n",
              "7         Utilib_taken_sum      Number of Utilib taken that date in that area\n",
              "8      Utilib_returned_sum   Number of Utilib returned that date in that area\n",
              "9      Utilib_14_taken_sum  Number of Utilib 1.4 taken that date in that area\n",
              "10  Utilib_14_returned_sum  Number of Utilib 1.4 returned that date in tha...\n",
              "11         Slots_freed_sum  Number of recharging slots released that date ...\n",
              "12         Slots_taken_sum  Number of rechargign slots taken that date in ..."
            ]
          },
          "metadata": {},
          "execution_count": 211
        }
      ]
    },
    {
      "cell_type": "markdown",
      "metadata": {
        "id": "HLd5ymporZez"
      },
      "source": [
        "## 3. Checking our Data"
      ]
    },
    {
      "cell_type": "code",
      "metadata": {
        "colab": {
          "base_uri": "https://localhost:8080/"
        },
        "id": "-JVWKDGrsEHv",
        "outputId": "374e4b0a-2c62-490c-a6c5-4492b4f496f0"
      },
      "source": [
        "# Determining the no. of records in our dataset, name of columns & data types\n",
        "#\n",
        "def info(data):\n",
        "  dtype = data.dtypes\n",
        "  dshape = data.shape\n",
        "  dcolumns = data.columns\n",
        "\n",
        "  return dtype, dcolumns , dshape\n",
        "\n",
        "info(autolib)"
      ],
      "execution_count": null,
      "outputs": [
        {
          "output_type": "execute_result",
          "data": {
            "text/plain": [
              "(ï»¿Postal code             int64\n",
              " date                      object\n",
              " n_daily_data_points        int64\n",
              " dayOfWeek                  int64\n",
              " day_type                  object\n",
              " BlueCars_taken_sum         int64\n",
              " BlueCars_returned_sum      int64\n",
              " Utilib_taken_sum           int64\n",
              " Utilib_returned_sum        int64\n",
              " Utilib_14_taken_sum        int64\n",
              " Utilib_14_returned_sum     int64\n",
              " Slots_freed_sum            int64\n",
              " Slots_taken_sum            int64\n",
              " dtype: object,\n",
              " Index(['ï»¿Postal code', 'date', 'n_daily_data_points', 'dayOfWeek',\n",
              "        'day_type', 'BlueCars_taken_sum', 'BlueCars_returned_sum',\n",
              "        'Utilib_taken_sum', 'Utilib_returned_sum', 'Utilib_14_taken_sum',\n",
              "        'Utilib_14_returned_sum', 'Slots_freed_sum', 'Slots_taken_sum'],\n",
              "       dtype='object'),\n",
              " (16085, 13))"
            ]
          },
          "metadata": {},
          "execution_count": 212
        }
      ]
    },
    {
      "cell_type": "markdown",
      "metadata": {
        "id": "gwM0TFtht5CM"
      },
      "source": [
        "## 4. Tidying Our DataSet\n"
      ]
    },
    {
      "cell_type": "code",
      "metadata": {
        "id": "QSM2fv5wtDhV"
      },
      "source": [
        "#Checking missing Values using function \n",
        "\n",
        "def missing(data_set):\n",
        "  slot = data_set.isnull().sum().sort_values(ascending = False)\n",
        "# finding the percentage\n",
        "  perc = (data_set.isnull().sum()/len(data_set)).sort_values(ascending = False)\n",
        "  miss_values = pd.DataFrame({'Total Missing Values':slot, 'percentage':perc})\n",
        "  return miss_values \n",
        "\n",
        "\n"
      ],
      "execution_count": null,
      "outputs": []
    },
    {
      "cell_type": "code",
      "metadata": {
        "colab": {
          "base_uri": "https://localhost:8080/",
          "height": 457
        },
        "id": "j50-_99Gv4vd",
        "outputId": "4f06c065-d726-407b-b4a5-05dcfcefbe64"
      },
      "source": [
        "missing (autolib)\n",
        "# The dataset has no missing values"
      ],
      "execution_count": null,
      "outputs": [
        {
          "output_type": "execute_result",
          "data": {
            "text/html": [
              "<div>\n",
              "<style scoped>\n",
              "    .dataframe tbody tr th:only-of-type {\n",
              "        vertical-align: middle;\n",
              "    }\n",
              "\n",
              "    .dataframe tbody tr th {\n",
              "        vertical-align: top;\n",
              "    }\n",
              "\n",
              "    .dataframe thead th {\n",
              "        text-align: right;\n",
              "    }\n",
              "</style>\n",
              "<table border=\"1\" class=\"dataframe\">\n",
              "  <thead>\n",
              "    <tr style=\"text-align: right;\">\n",
              "      <th></th>\n",
              "      <th>Total Missing Values</th>\n",
              "      <th>percentage</th>\n",
              "    </tr>\n",
              "  </thead>\n",
              "  <tbody>\n",
              "    <tr>\n",
              "      <th>Slots_taken_sum</th>\n",
              "      <td>0</td>\n",
              "      <td>0.0</td>\n",
              "    </tr>\n",
              "    <tr>\n",
              "      <th>Slots_freed_sum</th>\n",
              "      <td>0</td>\n",
              "      <td>0.0</td>\n",
              "    </tr>\n",
              "    <tr>\n",
              "      <th>Utilib_14_returned_sum</th>\n",
              "      <td>0</td>\n",
              "      <td>0.0</td>\n",
              "    </tr>\n",
              "    <tr>\n",
              "      <th>Utilib_14_taken_sum</th>\n",
              "      <td>0</td>\n",
              "      <td>0.0</td>\n",
              "    </tr>\n",
              "    <tr>\n",
              "      <th>Utilib_returned_sum</th>\n",
              "      <td>0</td>\n",
              "      <td>0.0</td>\n",
              "    </tr>\n",
              "    <tr>\n",
              "      <th>Utilib_taken_sum</th>\n",
              "      <td>0</td>\n",
              "      <td>0.0</td>\n",
              "    </tr>\n",
              "    <tr>\n",
              "      <th>BlueCars_returned_sum</th>\n",
              "      <td>0</td>\n",
              "      <td>0.0</td>\n",
              "    </tr>\n",
              "    <tr>\n",
              "      <th>BlueCars_taken_sum</th>\n",
              "      <td>0</td>\n",
              "      <td>0.0</td>\n",
              "    </tr>\n",
              "    <tr>\n",
              "      <th>day_type</th>\n",
              "      <td>0</td>\n",
              "      <td>0.0</td>\n",
              "    </tr>\n",
              "    <tr>\n",
              "      <th>dayOfWeek</th>\n",
              "      <td>0</td>\n",
              "      <td>0.0</td>\n",
              "    </tr>\n",
              "    <tr>\n",
              "      <th>n_daily_data_points</th>\n",
              "      <td>0</td>\n",
              "      <td>0.0</td>\n",
              "    </tr>\n",
              "    <tr>\n",
              "      <th>date</th>\n",
              "      <td>0</td>\n",
              "      <td>0.0</td>\n",
              "    </tr>\n",
              "    <tr>\n",
              "      <th>ï»¿Postal code</th>\n",
              "      <td>0</td>\n",
              "      <td>0.0</td>\n",
              "    </tr>\n",
              "  </tbody>\n",
              "</table>\n",
              "</div>"
            ],
            "text/plain": [
              "                        Total Missing Values  percentage\n",
              "Slots_taken_sum                            0         0.0\n",
              "Slots_freed_sum                            0         0.0\n",
              "Utilib_14_returned_sum                     0         0.0\n",
              "Utilib_14_taken_sum                        0         0.0\n",
              "Utilib_returned_sum                        0         0.0\n",
              "Utilib_taken_sum                           0         0.0\n",
              "BlueCars_returned_sum                      0         0.0\n",
              "BlueCars_taken_sum                         0         0.0\n",
              "day_type                                   0         0.0\n",
              "dayOfWeek                                  0         0.0\n",
              "n_daily_data_points                        0         0.0\n",
              "date                                       0         0.0\n",
              "ï»¿Postal code                             0         0.0"
            ]
          },
          "metadata": {},
          "execution_count": 214
        }
      ]
    },
    {
      "cell_type": "code",
      "metadata": {
        "id": "GpWKP0Al7qaZ"
      },
      "source": [
        "# Dropping the unecessary columns in our dataset\n",
        "autolib.drop(columns=['n_daily_data_points'] , inplace= True, axis = 1)"
      ],
      "execution_count": null,
      "outputs": []
    },
    {
      "cell_type": "code",
      "metadata": {
        "colab": {
          "base_uri": "https://localhost:8080/",
          "height": 243
        },
        "id": "fi1Huxl-_0Yv",
        "outputId": "ada2436b-b3a4-4e35-eaeb-3d524c10a20c"
      },
      "source": [
        "autolib.head()"
      ],
      "execution_count": null,
      "outputs": [
        {
          "output_type": "execute_result",
          "data": {
            "text/html": [
              "<div>\n",
              "<style scoped>\n",
              "    .dataframe tbody tr th:only-of-type {\n",
              "        vertical-align: middle;\n",
              "    }\n",
              "\n",
              "    .dataframe tbody tr th {\n",
              "        vertical-align: top;\n",
              "    }\n",
              "\n",
              "    .dataframe thead th {\n",
              "        text-align: right;\n",
              "    }\n",
              "</style>\n",
              "<table border=\"1\" class=\"dataframe\">\n",
              "  <thead>\n",
              "    <tr style=\"text-align: right;\">\n",
              "      <th></th>\n",
              "      <th>ï»¿Postal code</th>\n",
              "      <th>date</th>\n",
              "      <th>dayOfWeek</th>\n",
              "      <th>day_type</th>\n",
              "      <th>BlueCars_taken_sum</th>\n",
              "      <th>BlueCars_returned_sum</th>\n",
              "      <th>Utilib_taken_sum</th>\n",
              "      <th>Utilib_returned_sum</th>\n",
              "      <th>Utilib_14_taken_sum</th>\n",
              "      <th>Utilib_14_returned_sum</th>\n",
              "      <th>Slots_freed_sum</th>\n",
              "      <th>Slots_taken_sum</th>\n",
              "    </tr>\n",
              "  </thead>\n",
              "  <tbody>\n",
              "    <tr>\n",
              "      <th>0</th>\n",
              "      <td>75001</td>\n",
              "      <td>1/1/2018</td>\n",
              "      <td>0</td>\n",
              "      <td>weekday</td>\n",
              "      <td>110</td>\n",
              "      <td>103</td>\n",
              "      <td>3</td>\n",
              "      <td>2</td>\n",
              "      <td>10</td>\n",
              "      <td>9</td>\n",
              "      <td>22</td>\n",
              "      <td>20</td>\n",
              "    </tr>\n",
              "    <tr>\n",
              "      <th>1</th>\n",
              "      <td>75001</td>\n",
              "      <td>1/2/2018</td>\n",
              "      <td>1</td>\n",
              "      <td>weekday</td>\n",
              "      <td>98</td>\n",
              "      <td>94</td>\n",
              "      <td>1</td>\n",
              "      <td>1</td>\n",
              "      <td>8</td>\n",
              "      <td>8</td>\n",
              "      <td>23</td>\n",
              "      <td>22</td>\n",
              "    </tr>\n",
              "    <tr>\n",
              "      <th>2</th>\n",
              "      <td>75001</td>\n",
              "      <td>1/3/2018</td>\n",
              "      <td>2</td>\n",
              "      <td>weekday</td>\n",
              "      <td>138</td>\n",
              "      <td>139</td>\n",
              "      <td>0</td>\n",
              "      <td>0</td>\n",
              "      <td>2</td>\n",
              "      <td>2</td>\n",
              "      <td>27</td>\n",
              "      <td>27</td>\n",
              "    </tr>\n",
              "    <tr>\n",
              "      <th>3</th>\n",
              "      <td>75001</td>\n",
              "      <td>1/4/2018</td>\n",
              "      <td>3</td>\n",
              "      <td>weekday</td>\n",
              "      <td>104</td>\n",
              "      <td>104</td>\n",
              "      <td>2</td>\n",
              "      <td>2</td>\n",
              "      <td>9</td>\n",
              "      <td>8</td>\n",
              "      <td>25</td>\n",
              "      <td>21</td>\n",
              "    </tr>\n",
              "    <tr>\n",
              "      <th>4</th>\n",
              "      <td>75001</td>\n",
              "      <td>1/5/2018</td>\n",
              "      <td>4</td>\n",
              "      <td>weekday</td>\n",
              "      <td>114</td>\n",
              "      <td>117</td>\n",
              "      <td>3</td>\n",
              "      <td>3</td>\n",
              "      <td>6</td>\n",
              "      <td>6</td>\n",
              "      <td>18</td>\n",
              "      <td>20</td>\n",
              "    </tr>\n",
              "  </tbody>\n",
              "</table>\n",
              "</div>"
            ],
            "text/plain": [
              "   ï»¿Postal code      date  ...  Slots_freed_sum Slots_taken_sum\n",
              "0           75001  1/1/2018  ...               22              20\n",
              "1           75001  1/2/2018  ...               23              22\n",
              "2           75001  1/3/2018  ...               27              27\n",
              "3           75001  1/4/2018  ...               25              21\n",
              "4           75001  1/5/2018  ...               18              20\n",
              "\n",
              "[5 rows x 12 columns]"
            ]
          },
          "metadata": {},
          "execution_count": 216
        }
      ]
    },
    {
      "cell_type": "code",
      "metadata": {
        "colab": {
          "base_uri": "https://localhost:8080/"
        },
        "id": "oy7PT3kR48Fx",
        "outputId": "b7d46a76-90eb-4694-8f98-08e998a961ff"
      },
      "source": [
        "# Changing format of columns date column from format interger to datetime\n",
        "autolib['date'] =pd.to_datetime(autolib['date'] ) \n",
        "autolib['date']"
      ],
      "execution_count": null,
      "outputs": [
        {
          "output_type": "execute_result",
          "data": {
            "text/plain": [
              "0       2018-01-01\n",
              "1       2018-01-02\n",
              "2       2018-01-03\n",
              "3       2018-01-04\n",
              "4       2018-01-05\n",
              "           ...    \n",
              "16080   2018-06-15\n",
              "16081   2018-06-16\n",
              "16082   2018-06-17\n",
              "16083   2018-06-18\n",
              "16084   2018-06-19\n",
              "Name: date, Length: 16085, dtype: datetime64[ns]"
            ]
          },
          "metadata": {},
          "execution_count": 217
        }
      ]
    },
    {
      "cell_type": "code",
      "metadata": {
        "id": "GotxCJX3Aeed"
      },
      "source": [
        "# Renaming the columns of the dataset to look presentable\n",
        "autolib.rename(columns={\"ï»¿Postal code\": \"PostalCode\", \"date\": \"Date\", \"day_type\": \"Day_type\" }, errors=\"raise\", inplace= True)"
      ],
      "execution_count": null,
      "outputs": []
    },
    {
      "cell_type": "code",
      "metadata": {
        "colab": {
          "base_uri": "https://localhost:8080/",
          "height": 267
        },
        "id": "SRFrZP7mbcVe",
        "outputId": "bda89adc-d187-4b6f-aa73-88cae6e7d6bc"
      },
      "source": [
        "# Checking for Outliers\n",
        "#Let's start with the Bluecars_taken \n",
        "boxplot = autolib.boxplot(column=['BlueCars_taken_sum', 'BlueCars_returned_sum'])"
      ],
      "execution_count": null,
      "outputs": [
        {
          "output_type": "display_data",
          "data": {
            "image/png": "[encoded data removed]",
            "text/plain": [
              "<Figure size 432x288 with 1 Axes>"
            ]
          },
          "metadata": {
            "needs_background": "light"
          }
        }
      ]
    },
    {
      "cell_type": "code",
      "metadata": {
        "id": "Mq30zyiSSQzb",
        "colab": {
          "base_uri": "https://localhost:8080/"
        },
        "outputId": "f684059d-39b3-471c-cc1c-081f1c45910b"
      },
      "source": [
        "#Removing outliers in the year column\n",
        "#Calculate quantiles\n",
        "\n",
        "\n",
        "blue_uq  = autolib['BlueCars_taken_sum'].quantile([0.75])\n",
        "print(blue_uq )\n",
        "\n",
        "blue_lq  = autolib['BlueCars_taken_sum'].quantile([0.25])\n",
        "print(blue_lq )\n",
        "\n",
        "\n",
        "\n",
        "# Using the lower and upper quantile to drop the outliers in the blueCars_taken_sum column in order to remain with data which has more accuracy\n",
        "outliers_upper = autolib[autolib['BlueCars_taken_sum'] > 135].index\n",
        "autolib.drop(outliers_upper , inplace=True)\n",
        "\n",
        "\n"
      ],
      "execution_count": null,
      "outputs": [
        {
          "output_type": "stream",
          "name": "stdout",
          "text": [
            "0.75    135.0\n",
            "Name: BlueCars_taken_sum, dtype: float64\n",
            "0.25    20.0\n",
            "Name: BlueCars_taken_sum, dtype: float64\n"
          ]
        }
      ]
    },
    {
      "cell_type": "code",
      "metadata": {
        "id": "hKy79b0ZUxaq"
      },
      "source": [
        "# Using the lower and upper quantile to drop the outliers in the blueCars_taken_sum column in order to remain with data which has more accuracy\n",
        "outliers_lower = autolib[autolib['BlueCars_taken_sum'] < 20].index\n",
        "autolib.drop(outliers_lower , inplace=True)"
      ],
      "execution_count": null,
      "outputs": []
    },
    {
      "cell_type": "code",
      "metadata": {
        "colab": {
          "base_uri": "https://localhost:8080/"
        },
        "id": "HRXcb-oogz-_",
        "outputId": "07bcf990-555a-48c5-abcc-897406bd7b04"
      },
      "source": [
        "#Removing outliers in the year column\n",
        "#Calculate quantiles\n",
        "\n",
        "\n",
        "blue_uq  = autolib['BlueCars_returned_sum'].quantile([0.75])\n",
        "print(blue_uq )\n",
        "\n",
        "blue_lq  = autolib['BlueCars_returned_sum'].quantile([0.25])\n",
        "print(blue_lq )\n",
        "\n",
        "\n",
        "\n",
        "# Using the lower and upper quantile to drop the outliers in the blueCars_taken_sum column in order to remain with data which has more accuracy\n",
        "outliers_upper = autolib[autolib['BlueCars_returned_sum'] > 135].index\n",
        "autolib.drop(outliers_upper , inplace=True)"
      ],
      "execution_count": null,
      "outputs": [
        {
          "output_type": "stream",
          "name": "stdout",
          "text": [
            "0.75    73.0\n",
            "Name: BlueCars_returned_sum, dtype: float64\n",
            "0.25    31.0\n",
            "Name: BlueCars_returned_sum, dtype: float64\n"
          ]
        }
      ]
    },
    {
      "cell_type": "code",
      "metadata": {
        "id": "_kbMBZmvg2vX"
      },
      "source": [
        "# Using the lower and upper quantile to drop the outliers in the blueCars_taken_sum column in order to remain with data which has more accuracy\n",
        "outliers_lower = autolib[autolib['BlueCars_returned_sum'] < 20].index\n",
        "autolib.drop(outliers_lower , inplace=True)"
      ],
      "execution_count": null,
      "outputs": []
    },
    {
      "cell_type": "markdown",
      "metadata": {
        "id": "nDSxBpk6pS3n"
      },
      "source": [
        "## 5. Exploratory Analysis\n",
        "\n",
        "#### Measure of Central Tendencies & Dispersion"
      ]
    },
    {
      "cell_type": "code",
      "metadata": {
        "id": "2VSKUGrMU0US"
      },
      "source": [
        "# Changing day type column to category from object in order to enable it to be used for plots \n",
        "autolib['Day_type'] = autolib['Day_type'].astype('category')\n"
      ],
      "execution_count": null,
      "outputs": []
    },
    {
      "cell_type": "code",
      "metadata": {
        "colab": {
          "base_uri": "https://localhost:8080/",
          "height": 617
        },
        "id": "fmszgWureYuj",
        "outputId": "eee72714-e40c-4c1b-bbca-1b3d0ceadf18"
      },
      "source": [
        "# Selecting the data on weekdays to work with on the analysis\n",
        "autolib_wd = autolib.loc[autolib.Day_type == 'weekday']\n",
        "autolib_wd "
      ],
      "execution_count": null,
      "outputs": [
        {
          "output_type": "execute_result",
          "data": {
            "text/html": [
              "<div>\n",
              "<style scoped>\n",
              "    .dataframe tbody tr th:only-of-type {\n",
              "        vertical-align: middle;\n",
              "    }\n",
              "\n",
              "    .dataframe tbody tr th {\n",
              "        vertical-align: top;\n",
              "    }\n",
              "\n",
              "    .dataframe thead th {\n",
              "        text-align: right;\n",
              "    }\n",
              "</style>\n",
              "<table border=\"1\" class=\"dataframe\">\n",
              "  <thead>\n",
              "    <tr style=\"text-align: right;\">\n",
              "      <th></th>\n",
              "      <th>PostalCode</th>\n",
              "      <th>Date</th>\n",
              "      <th>dayOfWeek</th>\n",
              "      <th>Day_type</th>\n",
              "      <th>BlueCars_taken_sum</th>\n",
              "      <th>BlueCars_returned_sum</th>\n",
              "      <th>Utilib_taken_sum</th>\n",
              "      <th>Utilib_returned_sum</th>\n",
              "      <th>Utilib_14_taken_sum</th>\n",
              "      <th>Utilib_14_returned_sum</th>\n",
              "      <th>Slots_freed_sum</th>\n",
              "      <th>Slots_taken_sum</th>\n",
              "    </tr>\n",
              "  </thead>\n",
              "  <tbody>\n",
              "    <tr>\n",
              "      <th>0</th>\n",
              "      <td>75001</td>\n",
              "      <td>2018-01-01</td>\n",
              "      <td>0</td>\n",
              "      <td>weekday</td>\n",
              "      <td>110</td>\n",
              "      <td>103</td>\n",
              "      <td>3</td>\n",
              "      <td>2</td>\n",
              "      <td>10</td>\n",
              "      <td>9</td>\n",
              "      <td>22</td>\n",
              "      <td>20</td>\n",
              "    </tr>\n",
              "    <tr>\n",
              "      <th>1</th>\n",
              "      <td>75001</td>\n",
              "      <td>2018-01-02</td>\n",
              "      <td>1</td>\n",
              "      <td>weekday</td>\n",
              "      <td>98</td>\n",
              "      <td>94</td>\n",
              "      <td>1</td>\n",
              "      <td>1</td>\n",
              "      <td>8</td>\n",
              "      <td>8</td>\n",
              "      <td>23</td>\n",
              "      <td>22</td>\n",
              "    </tr>\n",
              "    <tr>\n",
              "      <th>3</th>\n",
              "      <td>75001</td>\n",
              "      <td>2018-01-04</td>\n",
              "      <td>3</td>\n",
              "      <td>weekday</td>\n",
              "      <td>104</td>\n",
              "      <td>104</td>\n",
              "      <td>2</td>\n",
              "      <td>2</td>\n",
              "      <td>9</td>\n",
              "      <td>8</td>\n",
              "      <td>25</td>\n",
              "      <td>21</td>\n",
              "    </tr>\n",
              "    <tr>\n",
              "      <th>4</th>\n",
              "      <td>75001</td>\n",
              "      <td>2018-01-05</td>\n",
              "      <td>4</td>\n",
              "      <td>weekday</td>\n",
              "      <td>114</td>\n",
              "      <td>117</td>\n",
              "      <td>3</td>\n",
              "      <td>3</td>\n",
              "      <td>6</td>\n",
              "      <td>6</td>\n",
              "      <td>18</td>\n",
              "      <td>20</td>\n",
              "    </tr>\n",
              "    <tr>\n",
              "      <th>7</th>\n",
              "      <td>75001</td>\n",
              "      <td>2018-01-08</td>\n",
              "      <td>0</td>\n",
              "      <td>weekday</td>\n",
              "      <td>84</td>\n",
              "      <td>83</td>\n",
              "      <td>3</td>\n",
              "      <td>3</td>\n",
              "      <td>10</td>\n",
              "      <td>10</td>\n",
              "      <td>14</td>\n",
              "      <td>15</td>\n",
              "    </tr>\n",
              "    <tr>\n",
              "      <th>...</th>\n",
              "      <td>...</td>\n",
              "      <td>...</td>\n",
              "      <td>...</td>\n",
              "      <td>...</td>\n",
              "      <td>...</td>\n",
              "      <td>...</td>\n",
              "      <td>...</td>\n",
              "      <td>...</td>\n",
              "      <td>...</td>\n",
              "      <td>...</td>\n",
              "      <td>...</td>\n",
              "      <td>...</td>\n",
              "    </tr>\n",
              "    <tr>\n",
              "      <th>16017</th>\n",
              "      <td>95880</td>\n",
              "      <td>2018-04-02</td>\n",
              "      <td>0</td>\n",
              "      <td>weekday</td>\n",
              "      <td>36</td>\n",
              "      <td>31</td>\n",
              "      <td>0</td>\n",
              "      <td>0</td>\n",
              "      <td>0</td>\n",
              "      <td>0</td>\n",
              "      <td>0</td>\n",
              "      <td>0</td>\n",
              "    </tr>\n",
              "    <tr>\n",
              "      <th>16046</th>\n",
              "      <td>95880</td>\n",
              "      <td>2018-05-01</td>\n",
              "      <td>1</td>\n",
              "      <td>weekday</td>\n",
              "      <td>24</td>\n",
              "      <td>25</td>\n",
              "      <td>0</td>\n",
              "      <td>0</td>\n",
              "      <td>1</td>\n",
              "      <td>1</td>\n",
              "      <td>0</td>\n",
              "      <td>0</td>\n",
              "    </tr>\n",
              "    <tr>\n",
              "      <th>16053</th>\n",
              "      <td>95880</td>\n",
              "      <td>2018-05-08</td>\n",
              "      <td>1</td>\n",
              "      <td>weekday</td>\n",
              "      <td>31</td>\n",
              "      <td>32</td>\n",
              "      <td>4</td>\n",
              "      <td>2</td>\n",
              "      <td>6</td>\n",
              "      <td>6</td>\n",
              "      <td>0</td>\n",
              "      <td>0</td>\n",
              "    </tr>\n",
              "    <tr>\n",
              "      <th>16055</th>\n",
              "      <td>95880</td>\n",
              "      <td>2018-05-21</td>\n",
              "      <td>0</td>\n",
              "      <td>weekday</td>\n",
              "      <td>26</td>\n",
              "      <td>27</td>\n",
              "      <td>1</td>\n",
              "      <td>1</td>\n",
              "      <td>1</td>\n",
              "      <td>1</td>\n",
              "      <td>0</td>\n",
              "      <td>0</td>\n",
              "    </tr>\n",
              "    <tr>\n",
              "      <th>16077</th>\n",
              "      <td>95880</td>\n",
              "      <td>2018-06-12</td>\n",
              "      <td>1</td>\n",
              "      <td>weekday</td>\n",
              "      <td>25</td>\n",
              "      <td>25</td>\n",
              "      <td>0</td>\n",
              "      <td>0</td>\n",
              "      <td>0</td>\n",
              "      <td>0</td>\n",
              "      <td>0</td>\n",
              "      <td>0</td>\n",
              "    </tr>\n",
              "  </tbody>\n",
              "</table>\n",
              "<p>5463 rows × 12 columns</p>\n",
              "</div>"
            ],
            "text/plain": [
              "       PostalCode       Date  ...  Slots_freed_sum Slots_taken_sum\n",
              "0           75001 2018-01-01  ...               22              20\n",
              "1           75001 2018-01-02  ...               23              22\n",
              "3           75001 2018-01-04  ...               25              21\n",
              "4           75001 2018-01-05  ...               18              20\n",
              "7           75001 2018-01-08  ...               14              15\n",
              "...           ...        ...  ...              ...             ...\n",
              "16017       95880 2018-04-02  ...                0               0\n",
              "16046       95880 2018-05-01  ...                0               0\n",
              "16053       95880 2018-05-08  ...                0               0\n",
              "16055       95880 2018-05-21  ...                0               0\n",
              "16077       95880 2018-06-12  ...                0               0\n",
              "\n",
              "[5463 rows x 12 columns]"
            ]
          },
          "metadata": {},
          "execution_count": 225
        }
      ]
    },
    {
      "cell_type": "code",
      "metadata": {
        "colab": {
          "base_uri": "https://localhost:8080/"
        },
        "id": "F4pAr0Z536Iw",
        "outputId": "8243c014-8b3b-4bd4-c04b-1795f10abb32"
      },
      "source": [
        "# Description of the Blue cars taken sum column \n",
        "autolib_wd['BlueCars_taken_sum'].describe()"
      ],
      "execution_count": null,
      "outputs": [
        {
          "output_type": "execute_result",
          "data": {
            "text/plain": [
              "count    5463.000000\n",
              "mean       53.769541\n",
              "std        28.646282\n",
              "min        20.000000\n",
              "25%        31.000000\n",
              "50%        45.000000\n",
              "75%        71.000000\n",
              "max       135.000000\n",
              "Name: BlueCars_taken_sum, dtype: float64"
            ]
          },
          "metadata": {},
          "execution_count": 228
        }
      ]
    },
    {
      "cell_type": "code",
      "metadata": {
        "colab": {
          "base_uri": "https://localhost:8080/"
        },
        "id": "NJ7j5IYB2O7s",
        "outputId": "4ff26007-9369-47a4-c138-1617a36e8def"
      },
      "source": [
        "# Finding the mode of the column 'BlueCars_taken_sum'\n",
        "autolib_wd['BlueCars_taken_sum'].mode()"
      ],
      "execution_count": null,
      "outputs": [
        {
          "output_type": "execute_result",
          "data": {
            "text/plain": [
              "0    28\n",
              "dtype: int64"
            ]
          },
          "metadata": {},
          "execution_count": 229
        }
      ]
    },
    {
      "cell_type": "code",
      "metadata": {
        "colab": {
          "base_uri": "https://localhost:8080/"
        },
        "id": "eKVSpZFv6NTT",
        "outputId": "06d72214-56af-402a-9d1b-586138637b81"
      },
      "source": [
        "# Description of the Blue cars taken sum column \n",
        "autolib_wd['BlueCars_returned_sum'].describe()"
      ],
      "execution_count": null,
      "outputs": [
        {
          "output_type": "execute_result",
          "data": {
            "text/plain": [
              "count    5463.000000\n",
              "mean       53.888523\n",
              "std        28.510770\n",
              "min        20.000000\n",
              "25%        31.000000\n",
              "50%        45.000000\n",
              "75%        70.000000\n",
              "max       135.000000\n",
              "Name: BlueCars_returned_sum, dtype: float64"
            ]
          },
          "metadata": {},
          "execution_count": 230
        }
      ]
    },
    {
      "cell_type": "code",
      "metadata": {
        "colab": {
          "base_uri": "https://localhost:8080/"
        },
        "id": "VrJRkWUH13yT",
        "outputId": "8bec0a64-0330-4dd4-932f-5cb022dd0768"
      },
      "source": [
        "# Finding the mode of the column 'BlueCars_taken_sum'\n",
        "autolib_wd['BlueCars_returned_sum'].mode()"
      ],
      "execution_count": null,
      "outputs": [
        {
          "output_type": "execute_result",
          "data": {
            "text/plain": [
              "0    29\n",
              "dtype: int64"
            ]
          },
          "metadata": {},
          "execution_count": 231
        }
      ]
    },
    {
      "cell_type": "code",
      "metadata": {
        "colab": {
          "base_uri": "https://localhost:8080/"
        },
        "id": "oTE6ue7a6cL1",
        "outputId": "41c36399-5d68-4c22-9146-ac5727140776"
      },
      "source": [
        "#Calculate quantiles\n",
        "quantile_auto = autolib_wd[\"BlueCars_taken_sum\"].quantile([0.25,0.5,0.75])\n",
        "print(quantile_auto)\n"
      ],
      "execution_count": null,
      "outputs": [
        {
          "output_type": "stream",
          "name": "stdout",
          "text": [
            "0.25    31.0\n",
            "0.50    45.0\n",
            "0.75    71.0\n",
            "Name: BlueCars_taken_sum, dtype: float64\n"
          ]
        }
      ]
    },
    {
      "cell_type": "code",
      "metadata": {
        "colab": {
          "base_uri": "https://localhost:8080/"
        },
        "id": "MTEAPlhHhbV_",
        "outputId": "5a770308-b460-4e72-860a-c74dfa7b3017"
      },
      "source": [
        "#Calculate quantiles\n",
        "quantile_auto = autolib_wd[\"BlueCars_returned_sum\"].quantile([0.25,0.5,0.75])\n",
        "print(quantile_auto)"
      ],
      "execution_count": null,
      "outputs": [
        {
          "output_type": "stream",
          "name": "stdout",
          "text": [
            "0.25    31.0\n",
            "0.50    45.0\n",
            "0.75    70.0\n",
            "Name: BlueCars_returned_sum, dtype: float64\n"
          ]
        }
      ]
    },
    {
      "cell_type": "code",
      "metadata": {
        "id": "Qy60T5W8_QmM"
      },
      "source": [
        "autolib.drop(columns=['PostalCode', 'dayOfWeek'] , inplace= True, axis = 1)\n"
      ],
      "execution_count": null,
      "outputs": []
    },
    {
      "cell_type": "code",
      "metadata": {
        "colab": {
          "base_uri": "https://localhost:8080/"
        },
        "id": "4mU_u92x6gmM",
        "outputId": "795004bf-cc6e-47d6-bf1a-8b4a29bf98fe"
      },
      "source": [
        "#Calculating measures of dispersion\n",
        "st_dev = autolib['BlueCars_taken_sum'].std()\n",
        "print(st_dev)\n",
        "skew =autolib['BlueCars_taken_sum'].skew()\n",
        "print(skew)\n",
        "kurt = autolib['BlueCars_taken_sum'].kurtosis()\n",
        "print(kurt)"
      ],
      "execution_count": null,
      "outputs": [
        {
          "output_type": "stream",
          "name": "stdout",
          "text": [
            "28.8894721985134\n",
            "0.8649116417939993\n",
            "-0.23263450131150476\n"
          ]
        }
      ]
    },
    {
      "cell_type": "code",
      "metadata": {
        "colab": {
          "base_uri": "https://localhost:8080/"
        },
        "id": "Q33WkbS1gfVN",
        "outputId": "8b6d8b0c-70bc-4dd5-f6cc-eb0a9a7fc6b1"
      },
      "source": [
        "#Calculating measures of dispersion\n",
        "st_dev = autolib['BlueCars_returned_sum'].std()\n",
        "print(st_dev)\n",
        "skew =autolib['BlueCars_returned_sum'].skew()\n",
        "print(skew)\n",
        "kurt = autolib['BlueCars_returned_sum'].kurtosis()\n",
        "print(kurt)"
      ],
      "execution_count": null,
      "outputs": [
        {
          "output_type": "stream",
          "name": "stdout",
          "text": [
            "28.915615468014334\n",
            "0.8872683690421388\n",
            "-0.17749243286119798\n"
          ]
        }
      ]
    },
    {
      "cell_type": "markdown",
      "metadata": {
        "id": "XH5nRh9JgKNu"
      },
      "source": [
        "\n",
        "Weekday observation:\n",
        "\n",
        "The number of Bluecars taken and that returned seems to have a relationship. The mean, mode and Median numbers of cars taken and those returned is the same.\n",
        "\n",
        "Both distributions (Bluecars taken and Bluecars returned) are highly skewed to the right."
      ]
    },
    {
      "cell_type": "markdown",
      "metadata": {
        "id": "feG_w7I7iLWH"
      },
      "source": [
        "### Univariate Analysis\n"
      ]
    },
    {
      "cell_type": "code",
      "metadata": {
        "colab": {
          "base_uri": "https://localhost:8080/",
          "height": 296
        },
        "id": "q700Oz6N80eM",
        "outputId": "c2d430cf-5fd4-4efc-c3b3-2f445d8ab1bd"
      },
      "source": [
        "#Plotting a Blue cars taken histogram\n",
        "freq_blue_t = autolib_wd['BlueCars_taken_sum']\n",
        "\n",
        "plt.hist(freq_blue_t, bins=10, histtype='bar', rwidth=0.9)\n",
        "plt.xlabel('BlueCars_taken')\n",
        "plt.ylabel('Frequency')\n",
        "plt.title('Histogram of BlueCars_taken vs frequency')\n",
        "plt.show()"
      ],
      "execution_count": null,
      "outputs": [
        {
          "output_type": "display_data",
          "data": {
            "image/png": "[encoded data removed]",
            "text/plain": [
              "<Figure size 432x288 with 1 Axes>"
            ]
          },
          "metadata": {
            "needs_background": "light"
          }
        }
      ]
    },
    {
      "cell_type": "code",
      "metadata": {
        "colab": {
          "base_uri": "https://localhost:8080/",
          "height": 296
        },
        "id": "iES7NfYZ_Bu4",
        "outputId": "d2cf418c-d3a8-4f5e-8e47-2948b2c7e939"
      },
      "source": [
        "#Plotting the blue cars returned histogram\n",
        "freq_blue_t = autolib_wd['BlueCars_returned_sum']\n",
        "\n",
        "plt.hist(freq_blue_t, bins=10, histtype='bar', rwidth=0.9)\n",
        "plt.xlabel('BlueCars_returned')\n",
        "plt.ylabel('Frequency')\n",
        "plt.title('Histogram of BlueCars_returned vs frequency')\n",
        "plt.show()"
      ],
      "execution_count": null,
      "outputs": [
        {
          "output_type": "display_data",
          "data": {
            "image/png": "[encoded data removed]",
            "text/plain": [
              "<Figure size 432x288 with 1 Axes>"
            ]
          },
          "metadata": {
            "needs_background": "light"
          }
        }
      ]
    },
    {
      "cell_type": "code",
      "metadata": {
        "colab": {
          "base_uri": "https://localhost:8080/",
          "height": 295
        },
        "id": "vWZdGTNJ_XdB",
        "outputId": "8d12795f-ebf6-4d61-b0e2-426d5787df99"
      },
      "source": [
        " #Plotting blue car taken as per different postal addresses histogram\n",
        "freq_blue_t = autolib_wd['PostalCode']\n",
        "\n",
        "plt.hist(freq_blue_t, bins=10, histtype='bar', rwidth=0.9)\n",
        "plt.xlabel('PostalCode')\n",
        "plt.ylabel('Frequency')\n",
        "plt.title('Histogram of Postal code vs frequency')\n",
        "plt.show()\n"
      ],
      "execution_count": null,
      "outputs": [
        {
          "output_type": "display_data",
          "data": {
            "image/png": "[encoded data removed]",
            "text/plain": [
              "<Figure size 432x288 with 1 Axes>"
            ]
          },
          "metadata": {
            "needs_background": "light"
          }
        }
      ]
    },
    {
      "cell_type": "markdown",
      "metadata": {
        "id": "fujXw6N8iFj4"
      },
      "source": [
        ""
      ]
    },
    {
      "cell_type": "markdown",
      "metadata": {
        "id": "6xuFfgcAihMB"
      },
      "source": [
        ""
      ]
    },
    {
      "cell_type": "markdown",
      "metadata": {
        "id": "kXj9O1m0Jlxo"
      },
      "source": [
        "### Bivariate Analysis"
      ]
    },
    {
      "cell_type": "code",
      "metadata": {
        "colab": {
          "base_uri": "https://localhost:8080/",
          "height": 370
        },
        "id": "OhiaeTLYvu4-",
        "outputId": "90176893-2967-4927-bea8-9422ea25555b"
      },
      "source": [
        "#  Relationship between the postal address to the blue cars taken\n",
        "ax = sns.relplot(x=\"BlueCars_taken_sum\", y=\"PostalCode\", hue=\"BlueCars_taken_sum\", data=autolib_wd)"
      ],
      "execution_count": null,
      "outputs": [
        {
          "output_type": "display_data",
          "data": {
            "image/png": "[encoded data removed]",
            "text/plain": [
              "<Figure size 471.75x360 with 1 Axes>"
            ]
          },
          "metadata": {
            "needs_background": "light"
          }
        }
      ]
    },
    {
      "cell_type": "code",
      "metadata": {
        "colab": {
          "base_uri": "https://localhost:8080/",
          "height": 347
        },
        "id": "tX2C4faKa9N8",
        "outputId": "ba4b8760-3017-4f6c-bc03-534b17a71eea"
      },
      "source": [
        "#  Relationship between the different car sharing systems compared to the blue cars taken \n",
        "\n",
        "ax = sns.lineplot(data=autolib_wd, x = autolib_wd['BlueCars_taken_sum'], y = autolib_wd['Date'] ,  palette=\"tab10\", linewidth=2.5)\n",
        "ax = sns.lineplot(data=autolib_wd, x = autolib_wd['Utilib_taken_sum'], y = autolib_wd['Date'] ,  palette=\"rocket\", linewidth=2.5)\n",
        "ax = sns.lineplot(data=autolib_wd, x = autolib_wd['Utilib_14_taken_sum'], y = autolib_wd['Date'] ,  palette=\"seagreen\", linewidth=2.5)\n",
        "\n",
        "ax.set(xlabel='Cars taken', ylabel='Date',\n",
        "       title='Relationship between BlueCars taken to the rest')"
      ],
      "execution_count": null,
      "outputs": [
        {
          "output_type": "execute_result",
          "data": {
            "text/plain": [
              "[Text(0, 0.5, 'Date'),\n",
              " Text(0.5, 0, 'Cars taken'),\n",
              " Text(0.5, 1.0, 'Relationship between BlueCars taken to the rest')]"
            ]
          },
          "metadata": {},
          "execution_count": 188
        },
        {
          "output_type": "display_data",
          "data": {
            "image/png": "[encoded data removed]",
            "text/plain": [
              "<Figure size 432x288 with 1 Axes>"
            ]
          },
          "metadata": {
            "needs_background": "light"
          }
        }
      ]
    },
    {
      "cell_type": "code",
      "metadata": {
        "id": "HaeohXMYdhJu",
        "colab": {
          "base_uri": "https://localhost:8080/",
          "height": 301
        },
        "outputId": "3b309cfd-ac0a-4088-b3ff-ccdd8a9ab2a6"
      },
      "source": [
        "# Relationship between Blue car taken and blue cars returned\n",
        "sns.scatterplot(data = autolib, x=\"BlueCars_taken_sum\", y=\"BlueCars_returned_sum\", hue=\"BlueCars_taken_sum\")"
      ],
      "execution_count": null,
      "outputs": [
        {
          "output_type": "execute_result",
          "data": {
            "text/plain": [
              "<matplotlib.axes._subplots.AxesSubplot at 0x7fc4838b5a10>"
            ]
          },
          "metadata": {},
          "execution_count": 239
        },
        {
          "output_type": "display_data",
          "data": {
            "image/png": "[encoded data removed]",
            "text/plain": [
              "<Figure size 432x288 with 1 Axes>"
            ]
          },
          "metadata": {
            "needs_background": "light"
          }
        }
      ]
    },
    {
      "cell_type": "markdown",
      "metadata": {
        "id": "glo3EHgQmjBy"
      },
      "source": [
        "#### **Observations** \n",
        "\n",
        "\n",
        "\n",
        "*   The rate of taking the blue cars was more or less the same which implies that the conduction of the sharing was quite efficient and the systems put in place are working quite effectively\n",
        "*  The Locations around postal address 95000 have quite fond reception of the blue car sharing services and use most frequently and those around postal address 17000-17015 are also quite receptive to these services \n",
        "\n",
        "  \n",
        "\n",
        "\n",
        "*   The blue car are also taken the most compared to the Utilib and Utilib 14 this implies that they are quite efficient to the others and therefore the company should focus more resources on getting more slots stations and purchasing more of the blue cars to carter for the growing market demand. \n",
        "\n",
        "\n",
        "\n"
      ]
    },
    {
      "cell_type": "markdown",
      "metadata": {
        "id": "jQj6xY-AjkFj"
      },
      "source": [
        "#### Sampling our Data for the Hypothesis Test"
      ]
    },
    {
      "cell_type": "code",
      "metadata": {
        "colab": {
          "base_uri": "https://localhost:8080/"
        },
        "id": "n6jWaTu5utGv",
        "outputId": "337756b4-45cf-4649-8f2f-b58b8a938af6"
      },
      "source": [
        "# Using the random sampling to select the sample population to work with where we selected 100 values to represent our dataon blue cars taken on weekdays\n",
        "auto = autolib_wd['BlueCars_taken_sum'].sample(n = 100, replace=\"False\")\n",
        "print(auto)"
      ],
      "execution_count": null,
      "outputs": [
        {
          "output_type": "stream",
          "name": "stdout",
          "text": [
            "11070     51\n",
            "9761     127\n",
            "15601     79\n",
            "7753      44\n",
            "9969     103\n",
            "        ... \n",
            "14364     45\n",
            "8434      33\n",
            "14710     26\n",
            "11579     22\n",
            "8484      23\n",
            "Name: BlueCars_taken_sum, Length: 100, dtype: int64\n"
          ]
        }
      ]
    },
    {
      "cell_type": "code",
      "metadata": {
        "colab": {
          "base_uri": "https://localhost:8080/"
        },
        "id": "qvd9AD3H0bGW",
        "outputId": "274ec82c-7867-418b-c8d9-1e6526df3977"
      },
      "source": [
        "#  establishing if our samples have a normal distribution using Gaussian Distribution method\n",
        "# imporing the shapiro function\n",
        "from scipy.stats import shapiro \n",
        "# testing for normality\n",
        "stat, p = shapiro(auto)\n",
        "print('Statistics=%.3f, p=%.3f' % (stat, p))\n",
        "\n",
        "# interpreting\n",
        "alpha = 0.05\n",
        "if p > alpha:\n",
        "\tprint('Sample looks Gaussian')\n",
        "else:\n",
        "\tprint('Sample does not look Gaussian')\n",
        "  \n"
      ],
      "execution_count": null,
      "outputs": [
        {
          "output_type": "stream",
          "name": "stdout",
          "text": [
            "Statistics=0.815, p=0.000\n",
            "Sample does not look Gaussian\n"
          ]
        }
      ]
    },
    {
      "cell_type": "code",
      "metadata": {
        "colab": {
          "base_uri": "https://localhost:8080/",
          "height": 313
        },
        "id": "jsPlW41FYgEE",
        "outputId": "6b0ac663-536f-4574-d690-ae1006d38eeb"
      },
      "source": [
        "# Sampling our weekend DataSet\n",
        "autolib_wk = autolib.loc[autolib.Day_type == 'weekend']\n",
        "autolib_wk.head()"
      ],
      "execution_count": null,
      "outputs": [
        {
          "output_type": "execute_result",
          "data": {
            "text/html": [
              "<div>\n",
              "<style scoped>\n",
              "    .dataframe tbody tr th:only-of-type {\n",
              "        vertical-align: middle;\n",
              "    }\n",
              "\n",
              "    .dataframe tbody tr th {\n",
              "        vertical-align: top;\n",
              "    }\n",
              "\n",
              "    .dataframe thead th {\n",
              "        text-align: right;\n",
              "    }\n",
              "</style>\n",
              "<table border=\"1\" class=\"dataframe\">\n",
              "  <thead>\n",
              "    <tr style=\"text-align: right;\">\n",
              "      <th></th>\n",
              "      <th>PostalCode</th>\n",
              "      <th>Date</th>\n",
              "      <th>dayOfWeek</th>\n",
              "      <th>Day_type</th>\n",
              "      <th>BlueCars_taken_sum</th>\n",
              "      <th>BlueCars_returned_sum</th>\n",
              "      <th>Utilib_taken_sum</th>\n",
              "      <th>Utilib_returned_sum</th>\n",
              "      <th>Utilib_14_taken_sum</th>\n",
              "      <th>Utilib_14_returned_sum</th>\n",
              "      <th>Slots_freed_sum</th>\n",
              "      <th>Slots_taken_sum</th>\n",
              "    </tr>\n",
              "  </thead>\n",
              "  <tbody>\n",
              "    <tr>\n",
              "      <th>94</th>\n",
              "      <td>75001</td>\n",
              "      <td>2018-04-08</td>\n",
              "      <td>6</td>\n",
              "      <td>weekend</td>\n",
              "      <td>119</td>\n",
              "      <td>117</td>\n",
              "      <td>1</td>\n",
              "      <td>1</td>\n",
              "      <td>13</td>\n",
              "      <td>13</td>\n",
              "      <td>29</td>\n",
              "      <td>28</td>\n",
              "    </tr>\n",
              "    <tr>\n",
              "      <th>125</th>\n",
              "      <td>75001</td>\n",
              "      <td>2018-05-20</td>\n",
              "      <td>6</td>\n",
              "      <td>weekend</td>\n",
              "      <td>114</td>\n",
              "      <td>120</td>\n",
              "      <td>4</td>\n",
              "      <td>4</td>\n",
              "      <td>3</td>\n",
              "      <td>3</td>\n",
              "      <td>25</td>\n",
              "      <td>26</td>\n",
              "    </tr>\n",
              "    <tr>\n",
              "      <th>281</th>\n",
              "      <td>75002</td>\n",
              "      <td>2018-05-20</td>\n",
              "      <td>6</td>\n",
              "      <td>weekend</td>\n",
              "      <td>133</td>\n",
              "      <td>121</td>\n",
              "      <td>1</td>\n",
              "      <td>1</td>\n",
              "      <td>4</td>\n",
              "      <td>2</td>\n",
              "      <td>32</td>\n",
              "      <td>28</td>\n",
              "    </tr>\n",
              "    <tr>\n",
              "      <th>1146</th>\n",
              "      <td>75008</td>\n",
              "      <td>2018-02-24</td>\n",
              "      <td>5</td>\n",
              "      <td>weekend</td>\n",
              "      <td>26</td>\n",
              "      <td>22</td>\n",
              "      <td>0</td>\n",
              "      <td>0</td>\n",
              "      <td>3</td>\n",
              "      <td>2</td>\n",
              "      <td>6</td>\n",
              "      <td>5</td>\n",
              "    </tr>\n",
              "    <tr>\n",
              "      <th>1302</th>\n",
              "      <td>75009</td>\n",
              "      <td>2018-02-24</td>\n",
              "      <td>5</td>\n",
              "      <td>weekend</td>\n",
              "      <td>27</td>\n",
              "      <td>21</td>\n",
              "      <td>4</td>\n",
              "      <td>3</td>\n",
              "      <td>1</td>\n",
              "      <td>0</td>\n",
              "      <td>9</td>\n",
              "      <td>7</td>\n",
              "    </tr>\n",
              "  </tbody>\n",
              "</table>\n",
              "</div>"
            ],
            "text/plain": [
              "      PostalCode       Date  ...  Slots_freed_sum Slots_taken_sum\n",
              "94         75001 2018-04-08  ...               29              28\n",
              "125        75001 2018-05-20  ...               25              26\n",
              "281        75002 2018-05-20  ...               32              28\n",
              "1146       75008 2018-02-24  ...                6               5\n",
              "1302       75009 2018-02-24  ...                9               7\n",
              "\n",
              "[5 rows x 12 columns]"
            ]
          },
          "metadata": {},
          "execution_count": 251
        }
      ]
    },
    {
      "cell_type": "code",
      "metadata": {
        "colab": {
          "base_uri": "https://localhost:8080/"
        },
        "id": "ajHTqfxkY-_N",
        "outputId": "21799ef0-e50f-47a8-e51d-012908efbbb1"
      },
      "source": [
        "# Using the random sampling to select the sample population to work with where we selected 100 values to represent our dataon blue cars taken on weekends\n",
        "auto1 = autolib_wk['BlueCars_taken_sum'].sample(n = 100, replace=\"False\")\n",
        "print(auto1)"
      ],
      "execution_count": null,
      "outputs": [
        {
          "output_type": "stream",
          "name": "stdout",
          "text": [
            "12688    125\n",
            "14627     95\n",
            "12963     45\n",
            "8540      32\n",
            "5765      94\n",
            "        ... \n",
            "6874      35\n",
            "5290     107\n",
            "10837     21\n",
            "8428      25\n",
            "14754     38\n",
            "Name: BlueCars_taken_sum, Length: 100, dtype: int64\n"
          ]
        }
      ]
    },
    {
      "cell_type": "code",
      "metadata": {
        "colab": {
          "base_uri": "https://localhost:8080/"
        },
        "id": "x4y3eV_wZYIZ",
        "outputId": "1543c841-273a-4ee9-85d2-2c2744c9c837"
      },
      "source": [
        "#  establishing if our samples have a normal distribution using Gaussian Distribution method\n",
        "# imporing the shapiro function\n",
        "from scipy.stats import shapiro \n",
        "# testing for normality\n",
        "stat, p = shapiro(auto1)\n",
        "print('Statistics=%.3f, p=%.3f' % (stat, p))\n",
        "\n",
        "# interpreting\n",
        "alpha = 0.05\n",
        "if p > alpha:\n",
        "\tprint('Sample looks Gaussian')\n",
        "else:\n",
        "\tprint('Sample does not look Gaussian')\n",
        "  \n",
        "# Running the example first calculates the test on the data sample, \n",
        "# then prints the statistic and calculated p-value. \n",
        "# The p-value is interested and finds that the data is likely drawn from a Gaussian distribution."
      ],
      "execution_count": null,
      "outputs": [
        {
          "output_type": "stream",
          "name": "stdout",
          "text": [
            "Statistics=0.918, p=0.000\n",
            "Sample does not look Gaussian\n"
          ]
        }
      ]
    },
    {
      "cell_type": "code",
      "metadata": {
        "colab": {
          "base_uri": "https://localhost:8080/"
        },
        "id": "OfltSC3q3Vpb",
        "outputId": "9fe4e416-fe2e-4f41-c4e1-2b979cd30c9f"
      },
      "source": [
        "m1= mean_1=np.mean(auto)\n",
        "m2= mean_2=np.mean(auto1)\n",
        "\n",
        "print(m1, m2)"
      ],
      "execution_count": null,
      "outputs": [
        {
          "output_type": "stream",
          "name": "stdout",
          "text": [
            "49.79 63.96\n"
          ]
        }
      ]
    },
    {
      "cell_type": "markdown",
      "metadata": {
        "id": "CXxx5fz3o9VA"
      },
      "source": [
        "#### Hypothesis Testing\n",
        "\n",
        "We are trying to investigate if the there is an increase or decrease in the demand of the blue cars between weekends and weekdays.\n",
        "\n",
        "We are to test the hypothesis and determine if this hypothesis can be rejected or failed to be rejected.\n",
        "\n",
        "The distribution of our samples is not normal therefore we are discouraged from using z score test to determine our hypothesis therefore we can apply the use of wilcoxon signed rank test as it doesnot need data to follow any parametric procedures.\n",
        "\n",
        "Our hypothesis as defined earlier:\n",
        "\n",
        "Null and Alternative hypothesis\n",
        "\n",
        "Ho: m1 = m2\n",
        "\n",
        "H1: m1 != m2\n",
        "\n",
        "We will define our alpha = 0.05 which is a 5% Significance level"
      ]
    },
    {
      "cell_type": "code",
      "metadata": {
        "colab": {
          "base_uri": "https://localhost:8080/"
        },
        "id": "_TZAh0t_qz2d",
        "outputId": "3330cc71-5a85-49b3-9559-2699e525609a"
      },
      "source": [
        "from scipy.stats import wilcoxon\n",
        "# compare samples\n",
        "stat, p = wilcoxon(auto, auto1)\n",
        "print('Statistics=%.3f, p=%.3f' % (stat, p))\n",
        "# interpret\n",
        "alpha = 0.05\n",
        "if p > alpha:\n",
        "    print('fail to reject the Null Hypothesis (H0) as the number of bluecars taken during weekdays is similar to mean of bluecars taken during the weekend')\n",
        "else:\n",
        "    print('reject Null Hypothesis (H0)  as the number of Mean of bluecars taken during weekdays is different to mean of bluecars taken during the weekend')"
      ],
      "execution_count": null,
      "outputs": [
        {
          "output_type": "stream",
          "name": "stdout",
          "text": [
            "Statistics=1478.500, p=0.001\n",
            "reject Null Hypothesis (H0)  as the number of Mean of bluecars taken during weekdays is different to mean of bluecars taken during the weekend\n"
          ]
        }
      ]
    },
    {
      "cell_type": "markdown",
      "metadata": {
        "id": "peVOg-pLuYJf"
      },
      "source": [
        "**Conclusion**\n",
        "\n",
        "The null hypothesis was rejected therefore we conclude that the alternative hypothesis which was our research question was actually true there is a relationship between the day of the week and the amount of cars blue cars picked\n",
        "\n",
        "\n",
        "\n",
        "*   There value of significance was 5% but our P value was less that 5 it was at 1% which implied that it did not fall below the confidence level there the mean show that there is an increase of the Blue car sharing during weekends \n",
        "*   Therefore the company should make ammends to try and suit the target market on Weekends as there is need for these services more on weekends than weekdays.\n",
        "\n",
        "\n",
        "\n"
      ]
    }
  ]
}